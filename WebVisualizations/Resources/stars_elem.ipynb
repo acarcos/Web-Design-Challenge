{
 "cells": [
  {
   "cell_type": "markdown",
   "metadata": {},
   "source": [
    "## Getting the information from database.\n",
    "\n",
    "#### We get the elements per galaxy components using separated databases. The original APOGEE database was cleaned using TopCat and in these data sets I already calculated de XYZ and R parameters for each Galaxy component. So, here I only plot the elements that I need."
   ]
  },
  {
   "cell_type": "code",
   "execution_count": null,
   "metadata": {},
   "outputs": [],
   "source": [
    "# Import utilities\n",
    "import numpy as np\n",
    "import matplotlib.pyplot as plt\n",
    "from astropy.io import ascii \n",
    "import pandas as pd\n",
    "%matplotlib notebook"
   ]
  },
  {
   "cell_type": "code",
   "execution_count": null,
   "metadata": {},
   "outputs": [],
   "source": [
    "# Importing the  Bulbo stuff\n",
    "data_bulge = ascii.read('datos_bulbo.ascii')\n",
    "data_bulge"
   ]
  },
  {
   "cell_type": "code",
   "execution_count": null,
   "metadata": {},
   "outputs": [],
   "source": [
    "# Getting the elements data, distances and errors with their average\n",
    "C_bulge = np.mean(data_bulge['C_Fe'])\n",
    "N_bulge = np.mean(data_bulge['N_Fe'])\n",
    "O_bulge = np.mean(data_bulge['O_Fe'])\n",
    "Fe_bulge = np.mean(data_bulge['Fe_H'])\n",
    "r_bulge = np.mean(data_bulge['R_Gal'])\n",
    "C_bulge_err = np.mean(data_bulge['C_Fe_err'])\n",
    "N_bulge_err = np.mean(data_bulge['N_Fe_err'])\n",
    "O_bulge_err = np.mean(data_bulge['O_Fe_err'])\n",
    "Fe_bulge_err = np.mean(data_bulge['Fe_H_err'])"
   ]
  },
  {
   "cell_type": "code",
   "execution_count": null,
   "metadata": {},
   "outputs": [],
   "source": [
    "# Repeating the same procedure for the rest of the components\n",
    "# Halo\n",
    "data_halo = ascii.read('datos_halo.ascii')\n",
    "data_halo"
   ]
  },
  {
   "cell_type": "code",
   "execution_count": null,
   "metadata": {},
   "outputs": [],
   "source": [
    "# Getting the elements data, distances and errors with their average\n",
    "C_halo = np.mean(data_halo['C_Fe'])\n",
    "N_halo = np.mean(data_halo['N_Fe'])\n",
    "O_halo = np.mean(data_halo['O_Fe'])\n",
    "Fe_halo = np.mean(data_halo['Fe_H'])\n",
    "r_halo = np.mean(data_halo['R_Gal'])\n",
    "C_halo_err = np.mean(data_halo['C_Fe_err'])\n",
    "N_halo_err = np.mean(data_halo['N_Fe_err'])\n",
    "O_halo_err = np.mean(data_halo['O_Fe_err'])\n",
    "Fe_halo_err = np.mean(data_halo['Fe_H_err'])"
   ]
  },
  {
   "cell_type": "code",
   "execution_count": null,
   "metadata": {},
   "outputs": [],
   "source": [
    "# Thin Disk\n",
    "data_thin_disk = ascii.read('datos_delg.ascii')\n",
    "data_thin_disk"
   ]
  },
  {
   "cell_type": "code",
   "execution_count": null,
   "metadata": {},
   "outputs": [],
   "source": [
    "# Getting the elements and r data\n",
    "C_thin_disk = np.mean(data_thin_disk['C_Fe'])\n",
    "N_thin_disk = np.mean(data_thin_disk['N_Fe'])\n",
    "O_thin_disk = np.mean(data_thin_disk['O_Fe'])\n",
    "Fe_thin_disk = np.mean(data_thin_disk['Fe_H'])\n",
    "r_thin_disk = np.mean(data_thin_disk['R_Gal'])\n",
    "C_thin_disk_err = np.mean(data_thin_disk['C_Fe_err'])\n",
    "N_thin_disk_err = np.mean(data_thin_disk['N_Fe_err'])\n",
    "O_thin_disk_err = np.mean(data_thin_disk['O_Fe_err'])\n",
    "Fe_thin_disk_err = np.mean(data_thin_disk['Fe_H_err'])"
   ]
  },
  {
   "cell_type": "code",
   "execution_count": null,
   "metadata": {},
   "outputs": [],
   "source": [
    "# Thick disk\n",
    "data_thick_disk = ascii.read('datos_grueso.ascii')\n",
    "data_thick_disk"
   ]
  },
  {
   "cell_type": "code",
   "execution_count": null,
   "metadata": {},
   "outputs": [],
   "source": [
    "# Information\n",
    "C_thick_disk = np.mean(data_thick_disk['C_Fe'])\n",
    "N_thick_disk = np.mean(data_thick_disk['N_Fe'])\n",
    "O_thick_disk = np.mean(data_thick_disk['O_Fe'])\n",
    "Fe_thick_disk = np.mean(data_thick_disk['Fe_H'])\n",
    "r_thick_disk = np.mean(data_thick_disk['R_Gal'])\n",
    "C_thick_disk_err = np.mean(data_thick_disk['C_Fe_err'])\n",
    "N_thick_disk_err = np.mean(data_thick_disk['N_Fe_err'])\n",
    "O_thick_disk_err = np.mean(data_thick_disk['O_Fe_err'])\n",
    "Fe_thick_disk_err = np.mean(data_thick_disk['Fe_H_err'])"
   ]
  },
  {
   "cell_type": "code",
   "execution_count": null,
   "metadata": {},
   "outputs": [],
   "source": [
    "# Now save the data per element into a list :D\n",
    "r_avg_total = [r_bulge, r_halo, r_thin_disk, r_thick_disk]\n",
    "avg_C_total = [C_bulge, C_halo, C_thin_disk, C_thick_disk]\n",
    "avg_C_err_total = [C_bulge_err, C_halo_err, C_thin_disk_err, C_thick_disk_err]\n",
    "gal_components = ['Bulge', 'Halo', 'Thin_Disk', 'Thick_disk']"
   ]
  },
  {
   "cell_type": "code",
   "execution_count": null,
   "metadata": {},
   "outputs": [],
   "source": [
    "# Save to dataframe \n",
    "df_comp_C = pd.DataFrame({'Components': gal_components, 'Mean_R': r_avg_total, \n",
    "                            'Mean_C': avg_C_total, 'Mean_C_err': avg_C_err_total})"
   ]
  },
  {
   "cell_type": "code",
   "execution_count": null,
   "metadata": {},
   "outputs": [],
   "source": [
    "# Set components as index\n",
    "df_gals_C = df_comp_C.set_index('Components')\n",
    "df_gals_C"
   ]
  },
  {
   "cell_type": "code",
   "execution_count": null,
   "metadata": {},
   "outputs": [],
   "source": [
    "# Plot\n",
    "for i in range(len(df_gals_C)):\n",
    "    plt.errorbar(df_gals_C['Mean_R'][i], df_gals_C['Mean_C'][i], yerr=df_gals_C['Mean_C_err'][i], fmt='.',elinewidth=1)\n",
    "    plt.xlabel('R_Gal')\n",
    "    plt.ylabel('C/Fe')\n",
    "    plt.title('Milky Way Mean Distribution of C Element')\n",
    "    plt.gca().legend((df_gals_C.index))"
   ]
  },
  {
   "cell_type": "code",
   "execution_count": null,
   "metadata": {},
   "outputs": [],
   "source": [
    "# Now for Nitrogen\n",
    "avg_N_total = [N_bulge, N_halo, N_thin_disk, N_thick_disk]\n",
    "avg_N_err_total = [N_bulge_err, N_halo_err, N_thin_disk_err, N_thick_disk_err]"
   ]
  },
  {
   "cell_type": "code",
   "execution_count": null,
   "metadata": {},
   "outputs": [],
   "source": [
    "# Save to dataframe\n",
    "df_gals_N = pd.DataFrame({'Components': gal_components, 'Mean_R': r_avg_total, \n",
    "                            'Mean_N': avg_N_total, 'Mean_N_err': avg_N_err_total}).set_index('Components')\n",
    "\n",
    "df_gals_N"
   ]
  },
  {
   "cell_type": "code",
   "execution_count": null,
   "metadata": {},
   "outputs": [],
   "source": [
    "# Plot\n",
    "for i in range(len(df_gals_N)):\n",
    "    plt.errorbar(df_gals_N['Mean_R'][i], df_gals_N['Mean_N'][i], yerr=df_gals_N['Mean_N_err'][i], fmt='.',elinewidth=1)\n",
    "    plt.xlabel('R_Gal')\n",
    "    plt.ylabel('N/Fe')\n",
    "    plt.title('Milky Way Mean Distribution of N Element')\n",
    "    plt.gca().legend((df_gals_N.index))"
   ]
  },
  {
   "cell_type": "code",
   "execution_count": null,
   "metadata": {},
   "outputs": [],
   "source": [
    "# For Oxygen\n",
    "avg_O_total = [O_bulge, O_halo, O_thin_disk, O_thick_disk]\n",
    "avg_O_err_total = [O_bulge_err, O_halo_err, O_thin_disk_err, O_thick_disk_err]"
   ]
  },
  {
   "cell_type": "code",
   "execution_count": null,
   "metadata": {},
   "outputs": [],
   "source": [
    "# Save to dataframe\n",
    "df_gals_O = pd.DataFrame({'Components': gal_components, 'Mean_R': r_avg_total, \n",
    "                            'Mean_O': avg_O_total, 'Mean_O_err': avg_O_err_total}).set_index('Components')\n",
    "\n",
    "df_gals_O"
   ]
  },
  {
   "cell_type": "code",
   "execution_count": null,
   "metadata": {},
   "outputs": [],
   "source": [
    "# Plot\n",
    "for i in range(len(df_gals_O)):\n",
    "    plt.errorbar(df_gals_O['Mean_R'][i], df_gals_O['Mean_O'][i], yerr=df_gals_O['Mean_O_err'][i], fmt='.',elinewidth=1)\n",
    "    plt.xlabel('R_Gal')\n",
    "    plt.ylabel('O/Fe')\n",
    "    plt.title('Milky Way Mean Distribution of O Element')\n",
    "    plt.gca().legend((df_gals_O.index))"
   ]
  },
  {
   "cell_type": "code",
   "execution_count": null,
   "metadata": {},
   "outputs": [],
   "source": [
    "# Last, for iron\n",
    "avg_Fe_total = [Fe_bulge, Fe_halo, Fe_thin_disk, Fe_thick_disk]\n",
    "avg_Fe_err_total = [Fe_bulge_err, Fe_halo_err, Fe_thin_disk_err, Fe_thick_disk_err]"
   ]
  },
  {
   "cell_type": "code",
   "execution_count": null,
   "metadata": {},
   "outputs": [],
   "source": [
    "# Save to dataframe\n",
    "df_gals_Fe = pd.DataFrame({'Components': gal_components, 'Mean_R': r_avg_total, \n",
    "                            'Mean_Fe': avg_Fe_total, 'Mean_Fe_err': avg_Fe_err_total}).set_index('Components')\n",
    "\n",
    "df_gals_Fe"
   ]
  },
  {
   "cell_type": "code",
   "execution_count": null,
   "metadata": {},
   "outputs": [],
   "source": [
    "# Plot\n",
    "for i in range(len(df_gals_Fe)):\n",
    "    plt.errorbar(df_gals_Fe['Mean_R'][i], df_gals_Fe['Mean_Fe'][i], yerr=df_gals_Fe['Mean_Fe_err'][i], fmt='.',elinewidth=1)\n",
    "    plt.xlabel('R_Gal')\n",
    "    plt.ylabel('Fe/H')\n",
    "    plt.title('Milky Way Mean Distribution of F Element')\n",
    "    plt.gca().legend((df_gals_Fe.index))"
   ]
  },
  {
   "cell_type": "code",
   "execution_count": null,
   "metadata": {},
   "outputs": [],
   "source": [
    "# To display the database into the .html, I convert the data to html\n",
    "# Since it cannot be done using .ascii type, I first convert to a .csv file\n",
    "# Concatenate the four components to display some data on webpage\n",
    "ascii.write(data_bulge, 'data_bulge.csv', format='csv', fast_writer=False)\n",
    "ascii.write(data_halo, 'data_halo.csv', format='csv', fast_writer=False)\n",
    "ascii.write(data_thin_disk, 'data_thin_disk.csv', format='csv', fast_writer=False)\n",
    "ascii.write(data_thick_disk, 'data_thick_disk.csv', format='csv', fast_writer=False)"
   ]
  },
  {
   "cell_type": "code",
   "execution_count": null,
   "metadata": {},
   "outputs": [],
   "source": [
    "# Import the same databases in the new format\n",
    "csv_data_bulge = pd.read_csv('data_bulge.csv')\n",
    "csv_data_halo = pd.read_csv('data_halo.csv')\n",
    "csv_data_thin_disk = pd.read_csv('data_thin_disk.csv')\n",
    "csv_data_thick_disk = pd.read_csv('data_thick_disk.csv')"
   ]
  },
  {
   "cell_type": "code",
   "execution_count": null,
   "metadata": {},
   "outputs": [],
   "source": [
    "# And it is easier to concatenate the data using Pandas\n",
    "conc_data = pd.concat([csv_data_bulge, csv_data_halo, csv_data_thin_disk, csv_data_thick_disk])\n",
    "conc_data"
   ]
  },
  {
   "cell_type": "code",
   "execution_count": null,
   "metadata": {},
   "outputs": [],
   "source": [
    "# And now export to .html format and will be easier to import the table.\n",
    "# I only export 500 datapoints since there is a lot of information\n",
    "conc_data.to_html('gals_data.html', index=False, justify='center', max_rows=500)"
   ]
  },
  {
   "cell_type": "code",
   "execution_count": null,
   "metadata": {},
   "outputs": [],
   "source": []
  }
 ],
 "metadata": {
  "kernelspec": {
   "display_name": "Python 3.7.4 64-bit ('base': conda)",
   "language": "python",
   "name": "python37464bitbasecondaf8a42dbeb68b43b8ab181bef94341f6a"
  },
  "language_info": {
   "codemirror_mode": {
    "name": "ipython",
    "version": 3
   },
   "file_extension": ".py",
   "mimetype": "text/x-python",
   "name": "python",
   "nbconvert_exporter": "python",
   "pygments_lexer": "ipython3",
   "version": "3.7.4"
  }
 },
 "nbformat": 4,
 "nbformat_minor": 2
}
